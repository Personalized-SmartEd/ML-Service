{
 "cells": [
  {
   "cell_type": "markdown",
   "metadata": {},
   "source": [
    "# XGB model for Assessment Analysis"
   ]
  },
  {
   "cell_type": "markdown",
   "metadata": {},
   "source": [
    "_Takes past scores and returns the predicted performance, current performance level and current growth trend_"
   ]
  },
  {
   "cell_type": "code",
   "execution_count": null,
   "metadata": {},
   "outputs": [],
   "source": [
    "# Training notebook : https://www.kaggle.com/code/devil234/dynamic-assessment"
   ]
  },
  {
   "cell_type": "markdown",
   "metadata": {},
   "source": [
    "### Usage from here-on out:"
   ]
  },
  {
   "cell_type": "code",
   "execution_count": 14,
   "metadata": {},
   "outputs": [
    {
     "name": "stderr",
     "output_type": "stream",
     "text": [
      "/home/gagan/Desktop/resume-projects/SmartEd/ML Service/.venv/lib/python3.10/site-packages/sklearn/base.py:380: InconsistentVersionWarning: Trying to unpickle estimator StandardScaler from version 1.2.2 when using version 1.6.1. This might lead to breaking code or invalid results. Use at your own risk. For more info please refer to:\n",
      "https://scikit-learn.org/stable/model_persistence.html#security-maintainability-limitations\n",
      "  warnings.warn(\n"
     ]
    }
   ],
   "source": [
    "import joblib\n",
    "\n",
    "\n",
    "average_score_model = joblib.load('../src/Weights/predicted_performance_level_model.pkl')\n",
    "performance_level_model = joblib.load('../src/Weights/current_performance_level_model.pkl')\n",
    "trend_model = joblib.load('../src/Weights/trend_model.pkl')\n",
    "scaler = joblib.load('../src/Weights/scaler.pkl')"
   ]
  },
  {
   "cell_type": "code",
   "execution_count": 24,
   "metadata": {},
   "outputs": [],
   "source": [
    "import pandas as pd\n",
    "import numpy as np\n",
    "\n",
    "def extract_features(row):\n",
    "    scores = row['score_history']\n",
    "    if isinstance(scores, (int, float)):\n",
    "        scores = [float(scores)]\n",
    "    elif isinstance(scores, str):\n",
    "        try:\n",
    "            scores = ast.literal_eval(scores) if '[' in scores else [float(scores)]\n",
    "        except (ValueError, SyntaxError):\n",
    "            return [0, 0, 0]\n",
    "    scores = [float(s) for s in scores if isinstance(s, (int, float)) or str(s).replace('.', '', 1).isdigit()]\n",
    "    if not scores:\n",
    "        return [0, 0, 0]\n",
    "    return [np.mean(scores), np.var(scores), np.std(scores)]"
   ]
  },
  {
   "cell_type": "code",
   "execution_count": 36,
   "metadata": {},
   "outputs": [
    {
     "name": "stdout",
     "output_type": "stream",
     "text": [
      "Predicted Average Scores: [54.958786]\n",
      "Predicted Performance Levels: [1]\n",
      "Predicted Trends: [2]\n"
     ]
    }
   ],
   "source": [
    "scores = [100, 10, 10, 100]\n",
    "\n",
    "sample_data = pd.DataFrame({\n",
    "    'score_history': [scores]\n",
    "})\n",
    "\n",
    "sample_data[['mean_score', 'variance', 'std_dev']] = sample_data.apply(extract_features, axis=1, result_type='expand')\n",
    "\n",
    "X_sample = sample_data[['mean_score', 'variance', 'std_dev']]\n",
    "\n",
    "X_sample_scaled = scaler.transform(X_sample)\n",
    "\n",
    "\n",
    "avg_score_pred = average_score_model.predict(X_sample_scaled)\n",
    "perf_pred = performance_level_model.predict(X_sample_scaled)\n",
    "trend_pred = trend_model.predict(X_sample_scaled)\n",
    "\n",
    "print(\"Predicted Average Scores:\", avg_score_pred)\n",
    "print(\"Predicted Performance Levels:\", perf_pred)\n",
    "print(\"Predicted Trends:\", trend_pred)"
   ]
  },
  {
   "cell_type": "code",
   "execution_count": 32,
   "metadata": {},
   "outputs": [],
   "source": [
    "level_map = {'advanced': 0, 'intermediate': 1, 'beginner': 2}\n",
    "trend_map = {'improving': 0, 'declining': 1, 'stable': 2}"
   ]
  },
  {
   "cell_type": "code",
   "execution_count": null,
   "metadata": {},
   "outputs": [],
   "source": []
  }
 ],
 "metadata": {
  "kernelspec": {
   "display_name": ".venv",
   "language": "python",
   "name": "python3"
  },
  "language_info": {
   "codemirror_mode": {
    "name": "ipython",
    "version": 3
   },
   "file_extension": ".py",
   "mimetype": "text/x-python",
   "name": "python",
   "nbconvert_exporter": "python",
   "pygments_lexer": "ipython3",
   "version": "3.10.6"
  }
 },
 "nbformat": 4,
 "nbformat_minor": 2
}
